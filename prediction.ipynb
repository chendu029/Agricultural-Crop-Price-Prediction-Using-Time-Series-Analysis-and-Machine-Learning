{
 "cells": [
  {
   "cell_type": "code",
   "execution_count": 9,
   "id": "30cc5eef",
   "metadata": {},
   "outputs": [],
   "source": [
    "def fetch_historical_data(district, variety):\n",
    "\n",
    "    historical_data = pd.read_csv('/Users/apple/Downloads/agriculture_data.csv')\n",
    "    historical_data['Price Date'] = pd.to_datetime(historical_data['Price Date'])\n",
    "    # Set 'Price Date' as the index of the DataFrame\n",
    "    historical_data.set_index('Price Date', inplace=True)\n",
    "    return historical_data"
   ]
  },
  {
   "cell_type": "code",
   "execution_count": null,
   "id": "f09b27e1",
   "metadata": {},
   "outputs": [],
   "source": [
    "def fetch_historical_data(district, variety):\n",
    "    # Load the data\n",
    "    historical_data = pd.read_csv('/Users/apple/Downloads/agriculture_data.csv')\n",
    "    \n",
    "    # Convert 'Price Date' to datetime\n",
    "    historical_data['Price Date'] = pd.to_datetime(historical_data['Price Date'])\n",
    "    \n",
    "    # Filter for the specific district and variety\n",
    "    historical_data = historical_data[(historical_data['District Name'] == district) & \n",
    "                                      (historical_data['Variety'] == variety)]\n",
    "    \n",
    "    # Aggregate the mean price for each date\n",
    "    aggregated_data = historical_data.groupby('Price Date').agg({'Capped Price': 'mean'}).reset_index()\n",
    "    \n",
    "    # Set 'Price Date' as the index of the DataFrame\n",
    "    aggregated_data.set_index('Price Date', inplace=True)\n",
    "    \n",
    "    return aggregated_data\n"
   ]
  },
  {
   "cell_type": "code",
   "execution_count": 13,
   "id": "be2ee1a1",
   "metadata": {},
   "outputs": [
    {
     "name": "stderr",
     "output_type": "stream",
     "text": [
      "/Users/apple/anaconda3/lib/python3.11/site-packages/sklearn/base.py:376: InconsistentVersionWarning: Trying to unpickle estimator DecisionTreeRegressor from version 1.5.2 when using version 1.5.1. This might lead to breaking code or invalid results. Use at your own risk. For more info please refer to:\n",
      "https://scikit-learn.org/stable/model_persistence.html#security-maintainability-limitations\n",
      "  warnings.warn(\n",
      "/Users/apple/anaconda3/lib/python3.11/site-packages/sklearn/base.py:376: InconsistentVersionWarning: Trying to unpickle estimator RandomForestRegressor from version 1.5.2 when using version 1.5.1. This might lead to breaking code or invalid results. Use at your own risk. For more info please refer to:\n",
      "https://scikit-learn.org/stable/model_persistence.html#security-maintainability-limitations\n",
      "  warnings.warn(\n",
      "/Users/apple/anaconda3/lib/python3.11/site-packages/sklearn/base.py:376: InconsistentVersionWarning: Trying to unpickle estimator MinMaxScaler from version 1.5.2 when using version 1.5.1. This might lead to breaking code or invalid results. Use at your own risk. For more info please refer to:\n",
      "https://scikit-learn.org/stable/model_persistence.html#security-maintainability-limitations\n",
      "  warnings.warn(\n"
     ]
    }
   ],
   "source": [
    "import joblib\n",
    "\n",
    "# Load the trained models\n",
    "model_dict = joblib.load('/Users/apple/Downloads/all_models.pkl')\n"
   ]
  },
  {
   "cell_type": "code",
   "execution_count": null,
   "id": "e720fc8c",
   "metadata": {},
   "outputs": [],
   "source": []
  },
  {
   "cell_type": "code",
   "execution_count": 33,
   "id": "65c9f605",
   "metadata": {
    "scrolled": true
   },
   "outputs": [
    {
     "name": "stderr",
     "output_type": "stream",
     "text": [
      "/Users/apple/anaconda3/lib/python3.11/site-packages/sklearn/base.py:376: InconsistentVersionWarning: Trying to unpickle estimator DecisionTreeRegressor from version 1.5.2 when using version 1.5.1. This might lead to breaking code or invalid results. Use at your own risk. For more info please refer to:\n",
      "https://scikit-learn.org/stable/model_persistence.html#security-maintainability-limitations\n",
      "  warnings.warn(\n",
      "/Users/apple/anaconda3/lib/python3.11/site-packages/sklearn/base.py:376: InconsistentVersionWarning: Trying to unpickle estimator RandomForestRegressor from version 1.5.2 when using version 1.5.1. This might lead to breaking code or invalid results. Use at your own risk. For more info please refer to:\n",
      "https://scikit-learn.org/stable/model_persistence.html#security-maintainability-limitations\n",
      "  warnings.warn(\n",
      "/Users/apple/anaconda3/lib/python3.11/site-packages/sklearn/base.py:376: InconsistentVersionWarning: Trying to unpickle estimator MinMaxScaler from version 1.5.2 when using version 1.5.1. This might lead to breaking code or invalid results. Use at your own risk. For more info please refer to:\n",
      "https://scikit-learn.org/stable/model_persistence.html#security-maintainability-limitations\n",
      "  warnings.warn(\n"
     ]
    }
   ],
   "source": [
    "import pandas as pd\n",
    "import numpy as np\n",
    "from sklearn.preprocessing import MinMaxScaler\n",
    "import joblib\n",
    "\n",
    "# Load the trained models\n",
    "model_dict = joblib.load('/Users/apple/Downloads/all_models.pkl')\n",
    "\n",
    "import pandas as pd\n",
    "\n",
    "def fetch_historical_data(district, variety):\n",
    "    # Load the historical data\n",
    "    historical_data = pd.read_csv('/Users/apple/Downloads/agriculture_data.csv')\n",
    "\n",
    "    # Convert 'Price Date' to datetime\n",
    "    historical_data['Price Date'] = pd.to_datetime(historical_data['Price Date'])\n",
    "    \n",
    "    # Aggregate the mean price for each date, district, and variety\n",
    "    historical_data = (historical_data\n",
    "                       .groupby(['Price Date', 'District Name', 'Variety'])\n",
    "                       .agg({'Capped Price': 'mean'})  # Change 'Capped Price' to the relevant column name\n",
    "                       .reset_index())\n",
    "\n",
    "    # Set 'Price Date' as the index of the DataFrame\n",
    "    historical_data.set_index('Price Date', inplace=True)\n",
    "\n",
    "    # Filter the historical data for the specified district and variety\n",
    "    historical_data = historical_data[(historical_data['District Name'] == district) & \n",
    "                                      (historical_data['Variety'] == variety)]\n",
    "    \n",
    "    return historical_data\n",
    "\n"
   ]
  },
  {
   "cell_type": "code",
   "execution_count": 41,
   "id": "e0051736",
   "metadata": {},
   "outputs": [],
   "source": [
    "def prepare_input_for_prediction(historical_data):\n",
    "    # Check if the historical data DataFrame is empty\n",
    "    if historical_data.empty:\n",
    "        raise ValueError(\"Historical data is empty. Please check the data source.\")\n",
    "\n",
    "    # Resample and prepare historical data\n",
    "    historical_data = historical_data['Capped Price'].resample('M').mean().ffill()\n",
    "\n",
    "    # Create a DataFrame for processing\n",
    "    df = pd.DataFrame({'Value': historical_data})\n",
    "\n",
    "    # Create lag features\n",
    "    for lag in range(1, 13):  # Lag features for the past 12 months\n",
    "        df[f'lag_{lag}'] = df['Value'].shift(lag)\n",
    "\n",
    "    # Add rolling features\n",
    "    df['rolling_mean'] = df['Value'].rolling(window=3).mean()  # 3-month rolling mean\n",
    "    df['rolling_std'] = df['Value'].rolling(window=3).std()    # 3-month rolling standard deviation\n",
    "\n",
    "    # Drop rows with NaN values created by lags and rolling calculations\n",
    "    df.dropna(inplace=True)\n",
    "\n",
    "    if df.empty:\n",
    "        raise ValueError(\"Not enough data to create lag features and rolling statistics. Please check the historical data.\")\n",
    "\n",
    "    # Apply Min-Max scaling\n",
    "    scaler = MinMaxScaler()\n",
    "    scaled_data = scaler.fit_transform(df[['Value']])\n",
    "\n",
    "    # Replace the original values with scaled values\n",
    "    df['Value'] = scaled_data.flatten()\n",
    "\n",
    "    return df, scaler\n"
   ]
  },
  {
   "cell_type": "code",
   "execution_count": 42,
   "id": "dfc4061c",
   "metadata": {},
   "outputs": [],
   "source": [
    "def predict_price(district, variety, future_date):\n",
    "    # Get historical data for the district and variety\n",
    "    historical_data = fetch_historical_data(district, variety)\n",
    "\n",
    "    # Prepare the input data based on the historical data\n",
    "    try:\n",
    "        df, scaler = prepare_input_for_prediction(historical_data)\n",
    "    except ValueError as e:\n",
    "        print(e)\n",
    "        return None\n",
    "\n",
    "    # Retrieve the model for the specified district and variety\n",
    "    model_info = model_dict.get((district, variety))\n",
    "\n",
    "    if model_info is None:\n",
    "        print(\"No model found for the specified district and variety.\")\n",
    "        return None\n",
    "\n",
    "    model = model_info['model']\n",
    "\n",
    "    # Use the most recent row of df (latest data) as input for the model\n",
    "    if df.empty:\n",
    "        print(\"No valid input data for prediction.\")\n",
    "        return None\n",
    "\n",
    "    X_new = df.iloc[-1:].drop(columns=['Value'])\n",
    "\n",
    "    # Make the prediction using the loaded model\n",
    "    predicted_value = model.predict(X_new)\n",
    "\n",
    "    # Inverse transform to convert the scaled value back to the original price scale\n",
    "    predicted_price = scaler.inverse_transform(predicted_value.reshape(-1, 1))\n",
    "\n",
    "    return predicted_price.flatten()[0]  # Flatten to get the scalar value\n"
   ]
  },
  {
   "cell_type": "code",
   "execution_count": 43,
   "id": "60c00950",
   "metadata": {},
   "outputs": [
    {
     "name": "stdout",
     "output_type": "stream",
     "text": [
      "The predicted price for Mysore - Tomato on 2024-01-01 is: 1483.14 Rs./Quintal\n"
     ]
    },
    {
     "name": "stderr",
     "output_type": "stream",
     "text": [
      "/var/folders/3_/121mk5v92fsgc66gxg541l4w0000gn/T/ipykernel_6279/1431705064.py:7: FutureWarning: 'M' is deprecated and will be removed in a future version, please use 'ME' instead.\n",
      "  historical_data = historical_data['Capped Price'].resample('M').mean().ffill()\n"
     ]
    }
   ],
   "source": [
    "# Example usage\n",
    "district = 'Mysore'\n",
    "variety = 'Tomato'\n",
    "future_date = '2024-01-01'\n",
    "\n",
    "predicted_price = predict_price(district, variety, future_date)\n",
    "if predicted_price is not None:\n",
    "    print(f\"The predicted price for {district} - {variety} on {future_date} is: {predicted_price:.2f} Rs./Quintal\")\n"
   ]
  },
  {
   "cell_type": "code",
   "execution_count": null,
   "id": "c7967b02",
   "metadata": {},
   "outputs": [],
   "source": []
  }
 ],
 "metadata": {
  "kernelspec": {
   "display_name": "Python 3 (ipykernel)",
   "language": "python",
   "name": "python3"
  },
  "language_info": {
   "codemirror_mode": {
    "name": "ipython",
    "version": 3
   },
   "file_extension": ".py",
   "mimetype": "text/x-python",
   "name": "python",
   "nbconvert_exporter": "python",
   "pygments_lexer": "ipython3",
   "version": "3.11.5"
  }
 },
 "nbformat": 4,
 "nbformat_minor": 5
}
