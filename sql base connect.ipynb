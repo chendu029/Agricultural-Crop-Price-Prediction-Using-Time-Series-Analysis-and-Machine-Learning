{
 "cells": [
  {
   "cell_type": "code",
   "execution_count": 1,
   "id": "6e9107b9",
   "metadata": {},
   "outputs": [
    {
     "name": "stderr",
     "output_type": "stream",
     "text": [
      "/Users/apple/anaconda3/lib/python3.11/site-packages/pandas/core/arrays/masked.py:60: UserWarning: Pandas requires version '1.3.6' or newer of 'bottleneck' (version '1.3.5' currently installed).\n",
      "  from pandas.core import (\n"
     ]
    }
   ],
   "source": [
    "import sqlite3\n",
    "import pandas as pd\n"
   ]
  },
  {
   "cell_type": "code",
   "execution_count": 2,
   "id": "a2329a67",
   "metadata": {},
   "outputs": [
    {
     "name": "stdout",
     "output_type": "stream",
     "text": [
      "  District Name       Variety  Price Date  Capped Price\n",
      "0     Bangalore  Bitter Gourd  2015-01-01        1800.0\n",
      "1        Haveri         Local  2015-01-01        4400.0\n",
      "2     Bangalore       Brinjal  2015-01-01        1400.0\n",
      "3         Kolar      Beetroot  2015-01-01        1300.0\n",
      "4   Chikmagalur  Green Chilly  2015-01-01        1800.0\n"
     ]
    }
   ],
   "source": [
    "# Replace with the path to your CSV file\n",
    "csv_file_path = '/Users/apple/Downloads/agriculture_data.csv'\n",
    "\n",
    "# Read the CSV file into a pandas DataFrame\n",
    "df = pd.read_csv(csv_file_path)\n",
    "\n",
    "# Display the first few rows to verify the data\n",
    "print(df.head())\n"
   ]
  },
  {
   "cell_type": "code",
   "execution_count": 11,
   "id": "d591f265",
   "metadata": {},
   "outputs": [],
   "source": [
    "# Specify the path where you want to create the database\n",
    "db_path = 'agriculture_prices.db'\n",
    "\n",
    "# Connect to the SQLite database (it will be created if it does not exist)\n",
    "conn = sqlite3.connect(db_path)\n"
   ]
  },
  {
   "cell_type": "code",
   "execution_count": 12,
   "id": "ab1968b2",
   "metadata": {},
   "outputs": [
    {
     "data": {
      "text/plain": [
       "611508"
      ]
     },
     "execution_count": 12,
     "metadata": {},
     "output_type": "execute_result"
    }
   ],
   "source": [
    "# Save the DataFrame to the SQLite database as a table named 'agriculture_prices'\n",
    "df.to_sql('agriculture_prices', conn, if_exists='replace', index=False)\n"
   ]
  },
  {
   "cell_type": "code",
   "execution_count": 13,
   "id": "1fc40e80",
   "metadata": {},
   "outputs": [
    {
     "name": "stdout",
     "output_type": "stream",
     "text": [
      "  District Name        Variety  Price Date  Capped Price\n",
      "0     Bangalore   Bitter Gourd  2015-01-01        1800.0\n",
      "1        Haveri          Local  2015-01-01        4400.0\n",
      "2     Bangalore        Brinjal  2015-01-01        1400.0\n",
      "3         Kolar       Beetroot  2015-01-01        1300.0\n",
      "4   Chikmagalur   Green Chilly  2015-01-01        1800.0\n",
      "5     Bangalore   Green Chilly  2015-01-01        2600.0\n",
      "6     Bangalore          Local  2015-01-01        2000.0\n",
      "7         Kolar  Beans (Whole)  2015-01-01        7500.0\n",
      "8     Bangalore    Elakki Bale  2015-01-01        3600.0\n",
      "9         Gadag  Green (Whole)  2015-01-01        7097.0\n"
     ]
    }
   ],
   "source": [
    "# Run a simple query to check if the data is stored correctly\n",
    "query = \"SELECT * FROM agriculture_prices LIMIT 10;\"\n",
    "result = pd.read_sql(query, conn)\n",
    "\n",
    "# Display the result\n",
    "print(result)\n"
   ]
  },
  {
   "cell_type": "code",
   "execution_count": 7,
   "id": "76c3d20d",
   "metadata": {},
   "outputs": [
    {
     "name": "stdout",
     "output_type": "stream",
     "text": [
      "Database and table created successfully.\n"
     ]
    }
   ],
   "source": [
    "import sqlite3\n",
    "\n",
    "# Connect to the SQLite database (it will be created if it doesn't exist)\n",
    "conn = sqlite3.connect('agriculture_prices.db')\n",
    "cursor = conn.cursor()\n",
    "\n",
    "# Create the prices table\n",
    "cursor.execute('''\n",
    "    CREATE TABLE IF NOT EXISTS prices (\n",
    "        id INTEGER PRIMARY KEY AUTOINCREMENT,\n",
    "        \"District Name\" TEXT NOT NULL,\n",
    "        \"Variety\" TEXT NOT NULL,\n",
    "        \"Capped Price\" REAL NOT NULL,\n",
    "        \"Price Date\" DATE NOT NULL\n",
    "    )\n",
    "''')\n",
    "\n",
    "# Commit the changes and close the connection\n",
    "conn.commit()\n",
    "# conn.close()\n",
    "\n",
    "print(\"Database and table created successfully.\")\n"
   ]
  },
  {
   "cell_type": "code",
   "execution_count": 15,
   "id": "ae3c79dc",
   "metadata": {},
   "outputs": [
    {
     "name": "stdout",
     "output_type": "stream",
     "text": [
      "Data imported from CSV to the database successfully.\n"
     ]
    }
   ],
   "source": [
    "import sqlite3\n",
    "import pandas as pd\n",
    "\n",
    "# Path to your CSV file\n",
    "csv_file_path = '/Users/apple/Downloads/agriculture_data.csv'\n",
    "\n",
    "# Read the CSV file into a DataFrame\n",
    "df = pd.read_csv(csv_file_path)\n",
    "\n",
    "# Connect to the SQLite database\n",
    "conn = sqlite3.connect('agriculture_prices.db')\n",
    "cursor = conn.cursor()\n",
    "\n",
    "# Create table if it doesn't exist\n",
    "cursor.execute('''\n",
    "    CREATE TABLE IF NOT EXISTS prices (\n",
    "        id INTEGER PRIMARY KEY AUTOINCREMENT,\n",
    "        \"District Name\" TEXT NOT NULL,\n",
    "        Variety TEXT NOT NULL,\n",
    "        \"Price Date\" DATE NOT NULL,\n",
    "        \"Capped Price\" REAL NOT NULL\n",
    "    )\n",
    "''')\n",
    "\n",
    "# Insert data from DataFrame into the table\n",
    "df.to_sql('prices', conn, if_exists='append', index=False)\n",
    "\n",
    "# Commit changes and close the connection\n",
    "conn.commit()\n",
    "conn.close()\n",
    "\n",
    "print(\"Data imported from CSV to the database successfully.\")\n"
   ]
  },
  {
   "cell_type": "code",
   "execution_count": null,
   "id": "7f45fec9",
   "metadata": {},
   "outputs": [],
   "source": []
  }
 ],
 "metadata": {
  "kernelspec": {
   "display_name": "Python 3 (ipykernel)",
   "language": "python",
   "name": "python3"
  },
  "language_info": {
   "codemirror_mode": {
    "name": "ipython",
    "version": 3
   },
   "file_extension": ".py",
   "mimetype": "text/x-python",
   "name": "python",
   "nbconvert_exporter": "python",
   "pygments_lexer": "ipython3",
   "version": "3.11.5"
  }
 },
 "nbformat": 4,
 "nbformat_minor": 5
}
